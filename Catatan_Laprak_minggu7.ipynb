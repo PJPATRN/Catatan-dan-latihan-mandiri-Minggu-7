{
 "cells": [
  {
   "cell_type": "code",
   "execution_count": 11,
   "metadata": {},
   "outputs": [
    {
     "name": "stdout",
     "output_type": "stream",
     "text": [
      "Simanjuntak\n"
     ]
    }
   ],
   "source": [
    "ini = \"Sipatokaan\"\n",
    "hasil = ini[0] + \"imanjuntak\"\n",
    "print(hasil)"
   ]
  },
  {
   "cell_type": "code",
   "execution_count": 14,
   "metadata": {},
   "outputs": [
    {
     "name": "stdout",
     "output_type": "stream",
     "text": [
      "True\n"
     ]
    }
   ],
   "source": [
    "print(\"a\" in \"saya\")"
   ]
  },
  {
   "cell_type": "code",
   "execution_count": 22,
   "metadata": {},
   "outputs": [
    {
     "name": "stdout",
     "output_type": "stream",
     "text": [
      "41\n",
      "4\n",
      "37\n"
     ]
    }
   ],
   "source": [
    "#Hitunglah berapa hasil pengurangan dari panjang \"The lazy brown fox jump over the lazy dog\" dikurangi panjang \"saya\"\n",
    "variable = \"The lazy brown fox jump over the lazy dog\"\n",
    "kata = \"saya\"\n",
    "print(len(variable))\n",
    "print(len(kata))\n",
    "print(len(variable) - len(kata))"
   ]
  },
  {
   "cell_type": "code",
   "execution_count": 12,
   "metadata": {},
   "outputs": [
    {
     "name": "stdout",
     "output_type": "stream",
     "text": [
      "Ini adalah string (sekumpulan karakter)\n",
      "Ini adalah string (sekumpulan karakter)\n",
      "Ini adalah string (sekumpulan karakter)\n",
      "Ini adalah string (sekumpulan karakter)\n",
      "\n",
      "Ini adalah string (sekumpulan karakter)\n",
      "Ini adalah string (sekumpulan karakter)\n",
      "Ini adalah string (sekumpulan karakter)\n",
      "Ini adalah string (sekumpulan karakter)\n",
      "\n"
     ]
    }
   ],
   "source": [
    "Huruf = \"Ini adalah string (sekumpulan karakter)\\n\"\n",
    "print(Huruf + Huruf + Huruf + Huruf)\n",
    "print(Huruf * 4)"
   ]
  },
  {
   "cell_type": "code",
   "execution_count": 23,
   "metadata": {},
   "outputs": [
    {
     "name": "stdout",
     "output_type": "stream",
     "text": [
      "M\n",
      "o\n",
      "l\n",
      "i\n",
      "n\n",
      "a\n"
     ]
    }
   ],
   "source": [
    "Molina = \"Moana bersama Molina dikejar Nana\"\n",
    "for i in range(14, len(Molina)- 13):\n",
    "    print(Molina[i])"
   ]
  },
  {
   "cell_type": "code",
   "execution_count": 25,
   "metadata": {},
   "outputs": [
    {
     "name": "stdout",
     "output_type": "stream",
     "text": [
      "s\n",
      "a\n",
      "y\n",
      "a\n",
      " \n",
      "m\n",
      "a\n",
      "k\n",
      "a\n",
      "n\n",
      " \n",
      "n\n",
      "a\n",
      "s\n",
      "i\n"
     ]
    }
   ],
   "source": [
    "a = \"saya makan nasi\"\n",
    "for i in range(0,len(a)):\n",
    "    print(a[i])"
   ]
  },
  {
   "cell_type": "code",
   "execution_count": 41,
   "metadata": {},
   "outputs": [
    {
     "name": "stdout",
     "output_type": "stream",
     "text": [
      "Jokes bapak ibu\n",
      "Jokes\n",
      "s\n",
      "bapak \n",
      "b\n"
     ]
    }
   ],
   "source": [
    "#slicing string\n",
    "ini = \"Jokes bapak ibu\"\n",
    "print(ini[0:len(ini)])\n",
    "print(ini[0:5])\n",
    "print(ini[4:5])\n",
    "print(ini[6:12])\n",
    "print(ini[6]) #bukan slice"
   ]
  },
  {
   "cell_type": "markdown",
   "metadata": {},
   "source": [
    "Latihan 7.1"
   ]
  },
  {
   "cell_type": "code",
   "execution_count": 6,
   "metadata": {},
   "outputs": [
    {
     "name": "stdout",
     "output_type": "stream",
     "text": [
      "Ini anagram\n"
     ]
    }
   ],
   "source": [
    "# Buatlah sebuah program yang dapat mendeteksi apakah suatu kata adalah anagram\n",
    "# dari kata lainnya atau bukan! Anagram adalah kata yang dibolak-balik susunan hurufnya sama.\n",
    "# Misal: mata anagram dengan atma, maat, taam, tama, dsb. \n",
    "\n",
    "kata = input(\"Ketikkan kata atau kalimat anda: \")\n",
    "anagram = input(\"Masukkan kata atau kalimat yang menurut anda anagram: \")\n",
    "kata = kata.lower()\n",
    "anagram = anagram.lower()\n",
    "\n",
    "if sorted(kata) == sorted(anagram):\n",
    "    print(\"Ini anagram\")\n",
    "else:\n",
    "    print(\"Ini bukan anagram\")"
   ]
  },
  {
   "cell_type": "markdown",
   "metadata": {},
   "source": [
    "Latihan 7.2"
   ]
  },
  {
   "cell_type": "code",
   "execution_count": 11,
   "metadata": {},
   "outputs": [
    {
     "name": "stdout",
     "output_type": "stream",
     "text": [
      "Jumlah (makan) di dalam (kupu kupu pucuk) adalah : 0\n"
     ]
    }
   ],
   "source": [
    "# Buatlah suatu program yang dapat menghitung frekuensi kemunculan suatu kata\n",
    "# yang ada pada String. Misal terdapat kalimat \"Saya mau makan. Makan itu wajib. Mau siang\n",
    "# atau malam saya wajib makan\". Ditanyakan kata \"makan\". Output: makan ada 3 buah\n",
    "kalimat = input(\"Masukkan kalimat anda : \")\n",
    "kata = input(\"Saya mencari kata : \")\n",
    "kalimat = kalimat.lower()\n",
    "kata = kata.lower()\n",
    "hasil = kalimat.count(kata)\n",
    "print(f\"Jumlah ({kata}) di dalam ({kalimat}) adalah : {hasil}\")"
   ]
  },
  {
   "cell_type": "markdown",
   "metadata": {},
   "source": [
    "Latihan 7.3"
   ]
  },
  {
   "cell_type": "code",
   "execution_count": null,
   "metadata": {},
   "outputs": [],
   "source": [
    "# Buatlah suatu program yang dapat menghapus semua spasi yang berlebih pada\n",
    "# sebuah string, dan menjadikannya satu spasi normal! Misal: \"saya tidak suka memancing ikan \"\n",
    "# Output: \"saya tidak suka memancing ikan\" \n",
    "Input1 = input(\"Masukkan string : \")\n",
    "Input1 = Input1.strip(\" \")\n",
    "print(f\"({Input1})\")"
   ]
  },
  {
   "cell_type": "markdown",
   "metadata": {},
   "source": [
    "Latihan 7.4"
   ]
  },
  {
   "cell_type": "code",
   "execution_count": null,
   "metadata": {},
   "outputs": [],
   "source": [
    "kalimat = input(\"Masukkan kalimat anda: \")\n",
    "kata = kalimat.lower()\n",
    "nilai = kata.split()\n",
    "\n",
    "if not nilai:\n",
    "    print(\"Tidak ada kata dalam kalimat.\")\n",
    "else:\n",
    "    terbesar = nilai[0]\n",
    "    terkecil = nilai[0]\n",
    "\n",
    "    for kata in nilai:\n",
    "        if len(kata) > len(terbesar):\n",
    "            terbesar = kata\n",
    "\n",
    "        if len(kata) < len(terkecil):\n",
    "            terkecil = kata\n",
    "\n",
    "    print(\"Kata terbesar:\", terbesar)\n",
    "    print(\"Kata terkecil:\", terkecil)\n"
   ]
  }
 ],
 "metadata": {
  "kernelspec": {
   "display_name": "Python 3",
   "language": "python",
   "name": "python3"
  },
  "language_info": {
   "codemirror_mode": {
    "name": "ipython",
    "version": 3
   },
   "file_extension": ".py",
   "mimetype": "text/x-python",
   "name": "python",
   "nbconvert_exporter": "python",
   "pygments_lexer": "ipython3",
   "version": "3.11.5"
  }
 },
 "nbformat": 4,
 "nbformat_minor": 2
}
